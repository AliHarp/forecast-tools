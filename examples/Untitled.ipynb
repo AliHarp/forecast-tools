{
 "cells": [
  {
   "cell_type": "code",
   "execution_count": 1,
   "metadata": {},
   "outputs": [],
   "source": [
    "import numpy as np\n",
    "import pandas as pd"
   ]
  },
  {
   "cell_type": "code",
   "execution_count": 4,
   "metadata": {},
   "outputs": [],
   "source": [
    "import forecast_tools as ft\n",
    "from forecast_tools.baseline import Naive1, SNaive, baseline_estimators"
   ]
  },
  {
   "cell_type": "code",
   "execution_count": 5,
   "metadata": {},
   "outputs": [
    {
     "data": {
      "text/plain": [
       "{'NF1': <forecast_tools.baseline.Naive1 at 0x7fe52ce48df0>,\n",
       " 'SNaive': <forecast_tools.baseline.SNaive at 0x7fe52ce48400>,\n",
       " 'Average': <forecast_tools.baseline.Average at 0x7fe52ce48eb0>,\n",
       " 'Drift': <forecast_tools.baseline.Drift at 0x7fe52ce48280>,\n",
       " 'Ensemble': <forecast_tools.baseline.EnsembleNaive at 0x7fe52ce48f10>}"
      ]
     },
     "execution_count": 5,
     "metadata": {},
     "output_type": "execute_result"
    }
   ],
   "source": [
    "baseline_estimators(seasonal_period=7)"
   ]
  },
  {
   "cell_type": "code",
   "execution_count": 6,
   "metadata": {},
   "outputs": [],
   "source": [
    "from forecast_tools.datasets import load_emergency_dept"
   ]
  },
  {
   "cell_type": "code",
   "execution_count": 12,
   "metadata": {},
   "outputs": [],
   "source": [
    "from forecast_tools.metrics import mean_absolute_error"
   ]
  },
  {
   "cell_type": "code",
   "execution_count": 11,
   "metadata": {},
   "outputs": [],
   "source": [
    "from forecast_tools.model_selection import (cross_validation_score, \n",
    "                                            rolling_forecast_origin, \n",
    "                                            sliding_window)"
   ]
  },
  {
   "cell_type": "code",
   "execution_count": 7,
   "metadata": {},
   "outputs": [],
   "source": [
    "ed = load_emergency_dept()"
   ]
  },
  {
   "cell_type": "code",
   "execution_count": 8,
   "metadata": {},
   "outputs": [
    {
     "data": {
      "text/plain": [
       "(344, 1)"
      ]
     },
     "execution_count": 8,
     "metadata": {},
     "output_type": "execute_result"
    }
   ],
   "source": [
    "ed.shape"
   ]
  },
  {
   "cell_type": "code",
   "execution_count": 10,
   "metadata": {},
   "outputs": [],
   "source": [
    "def auto_naive(y_train, horizon=1, seasonal_period=1, min_train_size='auto', method='cv'):\n",
    "    \n",
    "    valid_methods = ['holdout', 'cv']\n",
    "    \n",
    "    # check method is okay\n",
    "    if method not in valid_methods:\n",
    "        raise ArgumentException()\n",
    "        \n",
    "    if min_train_size == 'auto':\n",
    "        min_train_size = len(y_train) // 3\n",
    "        \n",
    "        \n",
    "    baselines = baseline_estimators(seasonal_period=seasonal_period)\n",
    "    if method == 'cv':\n",
    "        \n",
    "        method_score = []\n",
    "        for name, model in baselines:\n",
    "            cv = rolling_forecast_origin(y_train, min_train_size=min_train_size,\n",
    "                                         horizon=horizon, step=1)\n",
    "\n",
    "            method_score[name] = cross_validation_score(model, y_train, cv, mean_absolute_error)\n",
    "        \n",
    "    \n",
    "    \n",
    "        \n",
    "    \n",
    "        \n",
    "    "
   ]
  },
  {
   "cell_type": "code",
   "execution_count": null,
   "metadata": {},
   "outputs": [],
   "source": []
  }
 ],
 "metadata": {
  "kernelspec": {
   "display_name": "Python 3",
   "language": "python",
   "name": "python3"
  },
  "language_info": {
   "codemirror_mode": {
    "name": "ipython",
    "version": 3
   },
   "file_extension": ".py",
   "mimetype": "text/x-python",
   "name": "python",
   "nbconvert_exporter": "python",
   "pygments_lexer": "ipython3",
   "version": "3.8.1"
  }
 },
 "nbformat": 4,
 "nbformat_minor": 4
}
