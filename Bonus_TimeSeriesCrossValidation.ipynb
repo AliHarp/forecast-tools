{
 "cells": [
  {
   "cell_type": "markdown",
   "metadata": {},
   "source": [
    "# Time Series Cross Validation"
   ]
  },
  {
   "cell_type": "code",
   "execution_count": 1,
   "metadata": {},
   "outputs": [],
   "source": [
    "import pandas as pd\n",
    "import numpy as np\n",
    "\n",
    "#we include some parallel CPU examples to speed up your CV!\n",
    "#if you don't have joblib installed then uncomment the line below.\n",
    "#!pip install joblib\n",
    "from joblib import Parallel, delayed\n",
    "\n",
    "#suppress ARIMA warnings\n",
    "import warnings\n",
    "warnings.filterwarnings('ignore')"
   ]
  },
  {
   "cell_type": "markdown",
   "metadata": {},
   "source": [
    "Up till now we have used a single validation period to select our best model.  The weakness of that approach is that it gives you a sample size of 1 (that's better than nothing, but generally poor statistics!).  Time series cross validation is an approach to provide more data points when comparing models. In the classicial time series literature time series cross validation is called a **Rolling Forecast Origin**.  There may also be benefit of taking a **sliding window** approach to cross validaiton.  This second approach maintains a fixed sized training set.  I.e. it drops older values from the time series during validation.\n",
    "\n",
    "## Rolling Forecast Origin\n",
    "\n",
    "The following code and output provide a simplified view of how rolling forecast horizons work in practice."
   ]
  },
  {
   "cell_type": "code",
   "execution_count": 2,
   "metadata": {},
   "outputs": [],
   "source": [
    "def rolling_forecast_origin(train, min_train_size, horizon):\n",
    "    '''\n",
    "    Rolling forecast origin generator.\n",
    "    '''\n",
    "    for i in range(len(train) - min_train_size - horizon + 1):\n",
    "        split_train = train[:min_train_size+i]\n",
    "        split_val = train[min_train_size+i:min_train_size+i+horizon]\n",
    "        yield split_train, split_val"
   ]
  },
  {
   "cell_type": "code",
   "execution_count": 3,
   "metadata": {},
   "outputs": [
    {
     "name": "stdout",
     "output_type": "stream",
     "text": [
      "full training set: [2502, 2414, 2800, 2143, 2708, 1900, 2333, 2222]\n",
      "hidden test set: [1234, 3456]\n"
     ]
    }
   ],
   "source": [
    "full_series = [2502, 2414, 2800, 2143, 2708, 1900, 2333, 2222, 1234, 3456]\n",
    "\n",
    "test = full_series[-2:]\n",
    "train = full_series[:-2]\n",
    "print('full training set: {0}'.format(train))\n",
    "print('hidden test set: {0}'.format(test))"
   ]
  },
  {
   "cell_type": "code",
   "execution_count": 4,
   "metadata": {},
   "outputs": [
    {
     "data": {
      "text/plain": [
       "<generator object rolling_forecast_origin at 0x7f229e5d5f48>"
      ]
     },
     "execution_count": 4,
     "metadata": {},
     "output_type": "execute_result"
    }
   ],
   "source": [
    "cv_rolling = rolling_forecast_origin(train, min_train_size=4, horizon=2)\n",
    "cv_rolling"
   ]
  },
  {
   "cell_type": "code",
   "execution_count": 5,
   "metadata": {},
   "outputs": [
    {
     "name": "stdout",
     "output_type": "stream",
     "text": [
      "CV[1]\n",
      "Train:\t[2502, 2414, 2800, 2143]\n",
      "Val:\t[2708, 1900]\n",
      "-----\n",
      "CV[2]\n",
      "Train:\t[2502, 2414, 2800, 2143, 2708]\n",
      "Val:\t[1900, 2333]\n",
      "-----\n",
      "CV[3]\n",
      "Train:\t[2502, 2414, 2800, 2143, 2708, 1900]\n",
      "Val:\t[2333, 2222]\n",
      "-----\n"
     ]
    }
   ],
   "source": [
    "i = 0\n",
    "for cv_train, cv_val in cv_rolling:\n",
    "    print(f'CV[{i+1}]')\n",
    "    print(f'Train:\\t{cv_train}')\n",
    "    print(f'Val:\\t{cv_val}')\n",
    "    print('-----')\n",
    "    i += 1"
   ]
  },
  {
   "cell_type": "markdown",
   "metadata": {},
   "source": [
    "## Sliding Window Cross Validation"
   ]
  },
  {
   "cell_type": "code",
   "execution_count": 6,
   "metadata": {},
   "outputs": [],
   "source": [
    "def sliding_window(train, window_size, horizon, step=1):\n",
    "    '''\n",
    "    sliding window  generator.\n",
    "    \n",
    "    Parameters:\n",
    "    --------\n",
    "    train: array-like\n",
    "        training data for time series method\n",
    "    \n",
    "    window_size: int\n",
    "        lookback - how much data to include.\n",
    "    \n",
    "    horizon: int\n",
    "        forecast horizon\n",
    "        \n",
    "    step: int, optional (default=1)\n",
    "        step=1 means that a single additional data point is added to the time\n",
    "        series.  increase step to run less splits.\n",
    "        \n",
    "    Returns:\n",
    "        array-like, array-like\n",
    "    \n",
    "        split_training, split_validation\n",
    "    '''\n",
    "    for i in range(0, len(train) - window_size - horizon + 1, step):\n",
    "        split_train = train[i:window_size+i]\n",
    "        split_val = train[i+window_size:window_size+i+horizon]\n",
    "        yield split_train, split_val"
   ]
  },
  {
   "cell_type": "markdown",
   "metadata": {},
   "source": [
    "This code tests its with `step=1`"
   ]
  },
  {
   "cell_type": "code",
   "execution_count": 7,
   "metadata": {},
   "outputs": [
    {
     "name": "stdout",
     "output_type": "stream",
     "text": [
      "full training set: [2502, 2414, 2800, 2143, 2708, 1900, 2333, 2222]\n",
      "\n",
      "CV[1]\n",
      "Train:\t[2502, 2414, 2800, 2143]\n",
      "Val:\t[2708]\n",
      "-----\n",
      "CV[2]\n",
      "Train:\t[2414, 2800, 2143, 2708]\n",
      "Val:\t[1900]\n",
      "-----\n",
      "CV[3]\n",
      "Train:\t[2800, 2143, 2708, 1900]\n",
      "Val:\t[2333]\n",
      "-----\n",
      "CV[4]\n",
      "Train:\t[2143, 2708, 1900, 2333]\n",
      "Val:\t[2222]\n",
      "-----\n"
     ]
    }
   ],
   "source": [
    "cv_sliding = sliding_window(train, window_size=4, horizon=1)\n",
    "\n",
    "print('full training set: {0}\\n'.format(train))\n",
    "\n",
    "i = 0\n",
    "for cv_train, cv_val in cv_sliding:\n",
    "    print(f'CV[{i+1}]')\n",
    "    print(f'Train:\\t{cv_train}')\n",
    "    print(f'Val:\\t{cv_val}')\n",
    "    print('-----')\n",
    "    i += 1"
   ]
  },
  {
   "cell_type": "markdown",
   "metadata": {},
   "source": [
    "The following code tests it with `step=2`.  Note that you get less splits.  The code is less computationally expensive at the cost of less data.  That is probably okay."
   ]
  },
  {
   "cell_type": "code",
   "execution_count": 8,
   "metadata": {},
   "outputs": [
    {
     "name": "stdout",
     "output_type": "stream",
     "text": [
      "full training set: [2502, 2414, 2800, 2143, 2708, 1900, 2333, 2222]\n",
      "\n",
      "CV[1]\n",
      "Train:\t[2502, 2414, 2800, 2143]\n",
      "Val:\t[2708]\n",
      "-----\n",
      "CV[2]\n",
      "Train:\t[2800, 2143, 2708, 1900]\n",
      "Val:\t[2333]\n",
      "-----\n"
     ]
    }
   ],
   "source": [
    "cv_sliding = sliding_window(train, window_size=4, horizon=1, step=2)\n",
    "\n",
    "print('full training set: {0}\\n'.format(train))\n",
    "\n",
    "i = 0\n",
    "for cv_train, cv_val in cv_sliding:\n",
    "    print(f'CV[{i+1}]')\n",
    "    print(f'Train:\\t{cv_train}')\n",
    "    print(f'Val:\\t{cv_val}')\n",
    "    print('-----')\n",
    "    i += 1"
   ]
  },
  {
   "cell_type": "markdown",
   "metadata": {},
   "source": [
    "# Parallel Cross Validation Example using Naive1"
   ]
  },
  {
   "cell_type": "code",
   "execution_count": 9,
   "metadata": {},
   "outputs": [],
   "source": [
    "from forecast_tools.baseline import SNaive, Naive1\n",
    "from forecast_tools.datasets import load_emergency_dept\n",
    "from sklearn.metrics import mean_absolute_error"
   ]
  },
  {
   "cell_type": "code",
   "execution_count": 10,
   "metadata": {},
   "outputs": [],
   "source": [
    "train = load_emergency_dept()"
   ]
  },
  {
   "cell_type": "code",
   "execution_count": 11,
   "metadata": {},
   "outputs": [],
   "source": [
    "def forecast_accuracy(model, train, test, metric):\n",
    "    '''\n",
    "    Returns forecast accuracy of model fit on \n",
    "    training data and compared against a test set \n",
    "    with a given metric.\n",
    "    \n",
    "    Parameters:\n",
    "    ----------\n",
    "    model - object\n",
    "        forecasting model with .fit(train) and\n",
    "        .predict(horizon) methods\n",
    "        \n",
    "    train - array-like\n",
    "        training data\n",
    "        \n",
    "    test: array-like\n",
    "        holdout data for testing\n",
    "        \n",
    "    metric: function\n",
    "        error measure sig (y_true, y_preds)\n",
    "    '''\n",
    "    model.fit(train)\n",
    "    preds = model.predict(len(test))\n",
    "    return metric(y_true=test, y_pred=preds)"
   ]
  },
  {
   "cell_type": "code",
   "execution_count": 12,
   "metadata": {},
   "outputs": [],
   "source": [
    "def cross_validation_score(model, train, cv, metric, n_jobs=-1):\n",
    "    '''\n",
    "    Calculate cross validation scores\n",
    "    \n",
    "    Parameters:\n",
    "    ----------\n",
    "    model: object\n",
    "        forecast model\n",
    "    \n",
    "    train: array-like\n",
    "        training data\n",
    "        \n",
    "    metric: func(y_true, y_pred)\n",
    "        forecast error metric\n",
    "    \n",
    "    n_jobs: int, optional (default=-1)\n",
    "        when -1 runs across all cores\n",
    "        set = 1 to run each cross validation seperately.\n",
    "        using -1 speeds up cross validation of slow running models.    \n",
    "    '''\n",
    "    cv_scores = Parallel(n_jobs=n_jobs)(delayed(forecast_accuracy)(model, \n",
    "                                                cv_train, \n",
    "                                                cv_test, \n",
    "                                                mean_absolute_error) \n",
    "                              for cv_train, cv_test in cv)\n",
    "\n",
    "    return np.array(cv_scores)\n",
    "    "
   ]
  },
  {
   "cell_type": "code",
   "execution_count": 13,
   "metadata": {},
   "outputs": [],
   "source": [
    "model = Naive1()"
   ]
  },
  {
   "cell_type": "code",
   "execution_count": 14,
   "metadata": {},
   "outputs": [],
   "source": [
    "#%%timeit runs the code multiple times to get an estimate of runtime.\n",
    "#comment if out to run the code only once."
   ]
  },
  {
   "cell_type": "markdown",
   "metadata": {},
   "source": [
    "Run on a single core"
   ]
  },
  {
   "cell_type": "code",
   "execution_count": 15,
   "metadata": {},
   "outputs": [],
   "source": [
    "#%%timeit\n",
    "cv = sliding_window(train, window_size=14, horizon=7, step=1)\n",
    "results_1 = cross_validation_score(model, train, cv, mean_absolute_error, \n",
    "                                   n_jobs=1)"
   ]
  },
  {
   "cell_type": "markdown",
   "metadata": {},
   "source": [
    "Run across multiple cores by setting `n_jobs=-1`"
   ]
  },
  {
   "cell_type": "code",
   "execution_count": 16,
   "metadata": {},
   "outputs": [],
   "source": [
    "#%%timeit #should see a little bit of speed up, but not loads with basic model.\n",
    "cv = sliding_window(train, window_size=14, horizon=7, step=1)\n",
    "results_2 = cross_validation_score(model, train, cv, mean_absolute_error,\n",
    "                                       n_jobs=-1)"
   ]
  },
  {
   "cell_type": "code",
   "execution_count": 17,
   "metadata": {},
   "outputs": [
    {
     "data": {
      "text/plain": [
       "(324,)"
      ]
     },
     "execution_count": 17,
     "metadata": {},
     "output_type": "execute_result"
    }
   ],
   "source": [
    "results_1.shape"
   ]
  },
  {
   "cell_type": "code",
   "execution_count": 18,
   "metadata": {},
   "outputs": [
    {
     "data": {
      "text/plain": [
       "(324,)"
      ]
     },
     "execution_count": 18,
     "metadata": {},
     "output_type": "execute_result"
    }
   ],
   "source": [
    "results_2.shape"
   ]
  },
  {
   "cell_type": "code",
   "execution_count": 19,
   "metadata": {},
   "outputs": [
    {
     "name": "stdout",
     "output_type": "stream",
     "text": [
      "26.653439153439148 10.346957901088238\n"
     ]
    }
   ],
   "source": [
    "print(results_1.mean(), results_1.std())"
   ]
  },
  {
   "cell_type": "markdown",
   "metadata": {},
   "source": [
    "just to illustrate that the results are the same - the difference is runtime."
   ]
  },
  {
   "cell_type": "code",
   "execution_count": 20,
   "metadata": {},
   "outputs": [
    {
     "name": "stdout",
     "output_type": "stream",
     "text": [
      "26.653439153439148 10.346957901088238\n"
     ]
    }
   ],
   "source": [
    "print(results_2.mean(), results_2.std())"
   ]
  },
  {
   "cell_type": "markdown",
   "metadata": {},
   "source": [
    "## Cross validation example using ARIMA - does it speed up when CV run in Parallel?"
   ]
  },
  {
   "cell_type": "code",
   "execution_count": 19,
   "metadata": {},
   "outputs": [],
   "source": [
    "#use ARIMA from pmdarima as that has a similar interface to baseline models.\n",
    "from pmdarima import ARIMA, auto_arima"
   ]
  },
  {
   "cell_type": "code",
   "execution_count": 20,
   "metadata": {},
   "outputs": [],
   "source": [
    "#ato_model = auto_arima(train, suppress_warnings=True, n_jobs=-1, m=7)"
   ]
  },
  {
   "cell_type": "code",
   "execution_count": 21,
   "metadata": {},
   "outputs": [],
   "source": [
    "#auto_model"
   ]
  },
  {
   "cell_type": "code",
   "execution_count": 22,
   "metadata": {},
   "outputs": [],
   "source": [
    "#create arima model - reasonably complex model\n",
    "#order=(1, 1, 2), seasonal_order=(2, 0, 2, 7)\n",
    "args = {'order':(1, 1, 2), 'seasonal_order':(2, 0, 2, 7)}\n",
    "model = ARIMA(order=args['order'], seasonal_order=args['seasonal_order'],\n",
    "              enforce_stationarity=False, suppress_warnings=True)"
   ]
  },
  {
   "cell_type": "code",
   "execution_count": 25,
   "metadata": {},
   "outputs": [
    {
     "name": "stdout",
     "output_type": "stream",
     "text": [
      "CPU times: user 37.6 s, sys: 324 ms, total: 37.9 s\n",
      "Wall time: 12.2 s\n"
     ]
    }
   ],
   "source": [
    "%%time\n",
    "cv = rolling_forecast_origin(train, min_train_size=320, horizon=7)\n",
    "results_1 = cross_validation_score(model, train, cv, mean_absolute_error, \n",
    "                                   n_jobs=1)"
   ]
  },
  {
   "cell_type": "markdown",
   "metadata": {},
   "source": [
    "comment out %%timeit to run the code only once!\n",
    "\n",
    "you should see a big improvement in performance.  mine went \n",
    "from 12.3 seconds to 2.4 seconds."
   ]
  },
  {
   "cell_type": "code",
   "execution_count": 26,
   "metadata": {},
   "outputs": [
    {
     "name": "stdout",
     "output_type": "stream",
     "text": [
      "CPU times: user 1.78 s, sys: 196 ms, total: 1.97 s\n",
      "Wall time: 3 s\n"
     ]
    }
   ],
   "source": [
    "%%time\n",
    "cv = rolling_forecast_origin(train, min_train_size=320, horizon=7)\n",
    "results_2 = cross_validation_score(model, train, cv, mean_absolute_error, \n",
    "                                   n_jobs=-1)"
   ]
  },
  {
   "cell_type": "code",
   "execution_count": 27,
   "metadata": {},
   "outputs": [
    {
     "data": {
      "text/plain": [
       "(18,)"
      ]
     },
     "execution_count": 27,
     "metadata": {},
     "output_type": "execute_result"
    }
   ],
   "source": [
    "results_1.shape"
   ]
  },
  {
   "cell_type": "code",
   "execution_count": 28,
   "metadata": {},
   "outputs": [
    {
     "data": {
      "text/plain": [
       "(18,)"
      ]
     },
     "execution_count": 28,
     "metadata": {},
     "output_type": "execute_result"
    }
   ],
   "source": [
    "results_2.shape"
   ]
  },
  {
   "cell_type": "code",
   "execution_count": 29,
   "metadata": {},
   "outputs": [
    {
     "data": {
      "text/plain": [
       "15.58663509219668"
      ]
     },
     "execution_count": 29,
     "metadata": {},
     "output_type": "execute_result"
    }
   ],
   "source": [
    "results_1.mean()"
   ]
  },
  {
   "cell_type": "code",
   "execution_count": 30,
   "metadata": {},
   "outputs": [
    {
     "data": {
      "text/plain": [
       "15.586662939018318"
      ]
     },
     "execution_count": 30,
     "metadata": {},
     "output_type": "execute_result"
    }
   ],
   "source": [
    "results_2.mean()"
   ]
  },
  {
   "cell_type": "markdown",
   "metadata": {},
   "source": [
    "# Cross Validation with multiple forecast horizons"
   ]
  },
  {
   "cell_type": "code",
   "execution_count": 49,
   "metadata": {},
   "outputs": [],
   "source": [
    "def rolling_forecast_origin(train, min_train_size, horizons, step=1):\n",
    "    '''\n",
    "    Rolling forecast origin generator.\n",
    "\n",
    "    Parameters:\n",
    "    --------\n",
    "    train: array-like\n",
    "        training data for time series method\n",
    "    \n",
    "    min_train_size: int\n",
    "        lookback - initial training size\n",
    "    \n",
    "    horizons: list\n",
    "        forecast horizon list e.g. [7, 14, 28]\n",
    "        \n",
    "    step: int, optional (default=1)\n",
    "        step=1 means that a single additional data point is added to the time\n",
    "        series.  increase step to run less splits.\n",
    "        \n",
    "    Returns:\n",
    "        array-like, array-like\n",
    "    \n",
    "        split_training, split_validation, horizons\n",
    "    '''\n",
    "    horizon = max(horizons)\n",
    "    for i in range(0, len(train) - min_train_size - horizon + 1, step):\n",
    "        split_train = train[:min_train_size+i]\n",
    "        split_val = train[min_train_size+i:min_train_size+i+horizon]\n",
    "        yield split_train, split_val, horizons"
   ]
  },
  {
   "cell_type": "code",
   "execution_count": 27,
   "metadata": {},
   "outputs": [],
   "source": [
    "def sliding_window(train, window_size, horizons, step=1):\n",
    "    '''\n",
    "    sliding window  generator.\n",
    "    \n",
    "    Parameters:\n",
    "    --------\n",
    "    train: array-like\n",
    "        training data for time series method\n",
    "    \n",
    "    window_size: int\n",
    "        lookback - how much data to include.\n",
    "    \n",
    "    horizons: list\n",
    "        forecast horizon\n",
    "        \n",
    "    step: int, optional (default=1)\n",
    "        step=1 means that a single additional data point is added to the time\n",
    "        series.  increase step to run less splits.\n",
    "        \n",
    "    Returns:\n",
    "        array-like, array-like\n",
    "    \n",
    "        split_training, split_validation, horizons\n",
    "    '''\n",
    "    horizon = max(horizons)\n",
    "    for i in range(0, len(train) - window_size - horizon + 1, step):\n",
    "        split_train = train[i:window_size+i]\n",
    "        split_val = train[i+window_size:window_size+i+horizon]\n",
    "        yield split_train, split_val, horizons"
   ]
  },
  {
   "cell_type": "code",
   "execution_count": 24,
   "metadata": {},
   "outputs": [],
   "source": [
    "def forecast_accuracy(model, train, test, horizons, metric):\n",
    "    '''\n",
    "    Returns forecast accuracy of model fit on \n",
    "    training data and compared against a test set \n",
    "    with a given metric.  \n",
    "    \n",
    "    Allows multiple forecast horizons.  The model predicts\n",
    "    the maximum forecast horizon and then calculates the \n",
    "    accuracy across each.\n",
    "    \n",
    "    Parameters:\n",
    "    ----------\n",
    "    model - object\n",
    "        forecasting model with .fit(train) and\n",
    "        .predict(horizon) methods\n",
    "        \n",
    "    train - array-like\n",
    "        training data\n",
    "        \n",
    "    test: array-like\n",
    "        holdout data for testing\n",
    "        \n",
    "    horizons: list\n",
    "        list of forecast horizons e.g. [7, 14, 28]\n",
    "        \n",
    "    metric: function\n",
    "        error measure sig (y_true, y_preds)\n",
    "    '''\n",
    "    h_accuracy = []\n",
    "    model.fit(train)\n",
    "    preds = model.predict(max(horizons))\n",
    "    for horizon in horizons:\n",
    "        score = metric(y_true=test[:horizon], y_pred=preds[:horizon])\n",
    "        h_accuracy.append(score)\n",
    "    return h_accuracy"
   ]
  },
  {
   "cell_type": "code",
   "execution_count": 35,
   "metadata": {},
   "outputs": [],
   "source": [
    "def cross_validation_score(model, train, cv, metric, n_jobs=-1):\n",
    "    '''\n",
    "    Calculate cross validation scores\n",
    "    \n",
    "    Parameters:\n",
    "    ----------\n",
    "    model: object\n",
    "        forecast model\n",
    "    \n",
    "    train: array-like\n",
    "        training data\n",
    "        \n",
    "    metric: func(y_true, y_pred)\n",
    "        forecast error metric\n",
    "    \n",
    "    n_jobs: int, optional (default=-1)\n",
    "        when -1 runs across all cores\n",
    "        set = 1 to run each cross validation seperately.\n",
    "        using -1 speeds up cross validation of slow running models.   \n",
    "        \n",
    "        \n",
    "    Returns array of arrays\n",
    "    '''\n",
    "    cv_scores = Parallel(n_jobs=n_jobs)(delayed(forecast_accuracy)(model, \n",
    "                                                cv_train, \n",
    "                                                cv_test, \n",
    "                                                horizons,\n",
    "                                                metric) \n",
    "                              for cv_train, cv_test, horizons in cv)\n",
    "\n",
    "    return np.array(cv_scores)"
   ]
  },
  {
   "cell_type": "code",
   "execution_count": 45,
   "metadata": {},
   "outputs": [],
   "source": [
    "cv = sliding_window(train, window_size=200, horizons=[7,14,28], step=1)\n",
    "results_h = cross_validation_score(model, train, cv, mean_absolute_error,\n",
    "                                   n_jobs=-1)"
   ]
  },
  {
   "cell_type": "code",
   "execution_count": 46,
   "metadata": {},
   "outputs": [
    {
     "data": {
      "text/plain": [
       "array([[19.93865461, 21.68843935, 18.05717216],\n",
       "       [18.01282369, 19.10355357, 17.01336677],\n",
       "       [17.50760868, 17.50028055, 14.97335363],\n",
       "       [18.4961093 , 18.48323659, 15.48827774],\n",
       "       [19.15062451, 19.81726671, 15.89797954],\n",
       "       [20.60009427, 20.23717011, 15.52364669],\n",
       "       [16.80658008, 17.46524181, 14.55256391],\n",
       "       [19.2362758 , 17.0807867 , 14.4892809 ],\n",
       "       [17.33995865, 17.05248708, 14.46793961],\n",
       "       [17.84152246, 15.86702798, 14.19316717],\n",
       "       [17.61010053, 16.08568063, 13.98431784],\n",
       "       [20.53320462, 16.0470176 , 14.43120564],\n",
       "       [19.6096856 , 14.4598838 , 13.78238015],\n",
       "       [17.91103039, 13.73261928, 13.18386062],\n",
       "       [15.20299779, 13.28060278, 13.59281897],\n",
       "       [15.92575473, 14.2503689 , 12.94632197],\n",
       "       [13.23770789, 12.89871615, 12.0077787 ],\n",
       "       [14.9285796 , 12.58179635, 12.16504052],\n",
       "       [11.68575324, 12.48536852, 11.42394031],\n",
       "       [10.31691556, 13.14311339, 11.1181957 ],\n",
       "       [10.99766109, 14.10459357, 11.3035649 ],\n",
       "       [11.15943082, 14.59768074, 11.81008528],\n",
       "       [12.05028837, 13.01628052, 12.0931267 ],\n",
       "       [13.00168271, 12.85527548, 12.14309062],\n",
       "       [11.47983505, 12.6938158 , 12.73799622],\n",
       "       [13.45251788, 13.63498515, 12.60913915],\n",
       "       [15.58291427, 13.38784093, 13.44048912],\n",
       "       [17.03315708, 12.79707953, 13.12887248],\n",
       "       [17.73041641, 13.48432059, 12.90255528],\n",
       "       [13.33359042, 12.03625312, 13.07258588],\n",
       "       [11.7879254 , 11.86732644, 13.72660592],\n",
       "       [12.80542063, 12.5267522 , 13.7755074 ],\n",
       "       [13.02615704, 11.28614129, 13.31325625],\n",
       "       [ 9.64803636, 10.23237839, 13.07547874],\n",
       "       [ 7.36587774,  8.66037283, 11.87062192],\n",
       "       [ 9.38934612, 10.08386368, 12.22459385],\n",
       "       [11.17242858, 11.73377527, 13.25520248],\n",
       "       [12.51519363, 11.86646861, 14.01171833],\n",
       "       [12.64155302, 13.24795743, 13.53340049],\n",
       "       [10.96548751, 12.71442949, 14.22046725],\n",
       "       [10.89625863, 14.51292789, 14.17186635],\n",
       "       [11.1207618 , 14.38155546, 15.00078726],\n",
       "       [ 9.9560453 , 12.66560336, 13.59330627],\n",
       "       [11.7621517 , 13.6997741 , 13.42287068],\n",
       "       [11.34599095, 15.24048013, 13.4177636 ],\n",
       "       [14.06818877, 14.59064837, 12.90651032],\n",
       "       [14.186005  , 15.29206002, 12.9176281 ],\n",
       "       [17.92518655, 15.45630591, 13.96542674],\n",
       "       [17.2604317 , 14.92150565, 13.59622408],\n",
       "       [15.44761717, 14.5980168 , 13.37519204],\n",
       "       [16.72592771, 15.4925552 , 13.90441109],\n",
       "       [18.44160173, 15.4653343 , 13.50446859],\n",
       "       [15.54790907, 13.89677322, 12.95203447],\n",
       "       [16.8921285 , 13.65186935, 12.96657571],\n",
       "       [13.17440198, 12.36318206, 12.97018257],\n",
       "       [12.54963947, 13.3552533 , 12.7841265 ],\n",
       "       [15.41410368, 14.36300757, 13.88567204],\n",
       "       [13.41784082, 12.60445735, 13.98067863],\n",
       "       [11.28683239, 11.18062217, 14.06451008],\n",
       "       [11.04383446, 11.00679204, 13.76731478],\n",
       "       [ 9.55986508, 12.63270418, 14.91372041],\n",
       "       [10.31313267, 12.9784781 , 15.137471  ],\n",
       "       [13.36028542, 13.43467088, 15.02859052],\n",
       "       [11.25772364, 11.9712745 , 14.14172358],\n",
       "       [10.87076147, 12.95380196, 13.67174858],\n",
       "       [10.44216437, 13.32233733, 14.83674754],\n",
       "       [10.81904547, 13.52483319, 14.71720191],\n",
       "       [12.85791046, 14.08768206, 14.61115228],\n",
       "       [14.08131304, 14.32792184, 14.91282776],\n",
       "       [12.15038231, 13.01581505, 14.24808428],\n",
       "       [11.99688051, 14.12246716, 15.68111604],\n",
       "       [15.97306932, 16.40174442, 15.92623017],\n",
       "       [15.11608703, 15.87429694, 15.52451708],\n",
       "       [14.72721414, 16.52809695, 15.72059378],\n",
       "       [13.62910399, 15.51705599, 15.61584237],\n",
       "       [12.10207185, 16.46463868, 15.19463905],\n",
       "       [13.97627209, 16.69595029, 15.8835387 ],\n",
       "       [16.28548227, 17.11249059, 15.32851308],\n",
       "       [14.70233796, 14.08974587, 14.12339273],\n",
       "       [15.30044688, 15.19174022, 14.92077841],\n",
       "       [17.634551  , 15.45426754, 14.93354617],\n",
       "       [19.57058248, 16.2276295 , 15.26014155],\n",
       "       [21.94703285, 16.14931473, 14.94078346],\n",
       "       [19.93461685, 15.47079653, 15.15840626],\n",
       "       [17.76936456, 17.0408067 , 13.96005907],\n",
       "       [15.1537041 , 15.52900676, 14.28934222],\n",
       "       [16.9472204 , 15.3175771 , 14.38893371],\n",
       "       [13.60764914, 14.40362195, 13.7027787 ],\n",
       "       [12.57494953, 15.80741122, 13.76156126],\n",
       "       [11.44310922, 14.64062265, 13.83115631],\n",
       "       [12.1079198 , 16.15691847, 13.93066959],\n",
       "       [16.61520056, 13.57911083, 13.26979489],\n",
       "       [15.44142808, 14.38910883, 14.16875997],\n",
       "       [13.92469445, 14.78875009, 13.62376937],\n",
       "       [15.60637285, 15.55659086, 14.11895829],\n",
       "       [18.9648244 , 15.81841977, 15.38390057],\n",
       "       [15.58345492, 14.34047922, 14.46705916],\n",
       "       [16.89099596, 15.528086  , 14.57140519],\n",
       "       [10.91668225, 12.20443144, 13.293739  ],\n",
       "       [14.79822827, 14.02000997, 14.05875209],\n",
       "       [18.30981556, 15.04991788, 13.95069411],\n",
       "       [19.34706344, 15.14066036, 14.22427473],\n",
       "       [14.51790064, 12.89038928, 13.08540207],\n",
       "       [15.1243508 , 13.74950271, 13.21942461],\n",
       "       [15.37830356, 13.06284785, 12.7018809 ],\n",
       "       [13.17072277, 12.66627255, 12.68660872],\n",
       "       [13.10795098, 13.13104973, 12.63607117],\n",
       "       [12.69986571, 12.36826529, 13.43401856],\n",
       "       [10.17362648, 12.11246472, 12.512457  ],\n",
       "       [12.1404974 , 14.82860682, 12.64161944],\n",
       "       [13.23417671, 14.69400288, 13.07558195],\n",
       "       [12.12605076, 13.75569642, 14.48030694],\n",
       "       [13.52583817, 15.21436126, 16.41891033],\n",
       "       [13.55218095, 14.68289884, 15.27447331],\n",
       "       [12.98908306, 14.16874203, 15.86382308],\n",
       "       [14.60047615, 14.37623521, 16.51869958],\n",
       "       [17.76411154, 13.9613494 , 16.32666483]])"
      ]
     },
     "execution_count": 46,
     "metadata": {},
     "output_type": "execute_result"
    }
   ],
   "source": [
    "#results_h is a np array where each row is a list with 3 items\n",
    "#col 1 = 7 days\n",
    "#col 2 = 14 days\n",
    "#col 3 = 28 days\n",
    "results_h"
   ]
  },
  {
   "cell_type": "code",
   "execution_count": 47,
   "metadata": {},
   "outputs": [
    {
     "data": {
      "text/html": [
       "<div>\n",
       "<style scoped>\n",
       "    .dataframe tbody tr th:only-of-type {\n",
       "        vertical-align: middle;\n",
       "    }\n",
       "\n",
       "    .dataframe tbody tr th {\n",
       "        vertical-align: top;\n",
       "    }\n",
       "\n",
       "    .dataframe thead th {\n",
       "        text-align: right;\n",
       "    }\n",
       "</style>\n",
       "<table border=\"1\" class=\"dataframe\">\n",
       "  <thead>\n",
       "    <tr style=\"text-align: right;\">\n",
       "      <th></th>\n",
       "      <th>7days</th>\n",
       "      <th>14days</th>\n",
       "      <th>28days</th>\n",
       "    </tr>\n",
       "  </thead>\n",
       "  <tbody>\n",
       "    <tr>\n",
       "      <th>0</th>\n",
       "      <td>19.938655</td>\n",
       "      <td>21.688439</td>\n",
       "      <td>18.057172</td>\n",
       "    </tr>\n",
       "    <tr>\n",
       "      <th>1</th>\n",
       "      <td>18.012824</td>\n",
       "      <td>19.103554</td>\n",
       "      <td>17.013367</td>\n",
       "    </tr>\n",
       "    <tr>\n",
       "      <th>2</th>\n",
       "      <td>17.507609</td>\n",
       "      <td>17.500281</td>\n",
       "      <td>14.973354</td>\n",
       "    </tr>\n",
       "    <tr>\n",
       "      <th>3</th>\n",
       "      <td>18.496109</td>\n",
       "      <td>18.483237</td>\n",
       "      <td>15.488278</td>\n",
       "    </tr>\n",
       "    <tr>\n",
       "      <th>4</th>\n",
       "      <td>19.150625</td>\n",
       "      <td>19.817267</td>\n",
       "      <td>15.897980</td>\n",
       "    </tr>\n",
       "  </tbody>\n",
       "</table>\n",
       "</div>"
      ],
      "text/plain": [
       "       7days     14days     28days\n",
       "0  19.938655  21.688439  18.057172\n",
       "1  18.012824  19.103554  17.013367\n",
       "2  17.507609  17.500281  14.973354\n",
       "3  18.496109  18.483237  15.488278\n",
       "4  19.150625  19.817267  15.897980"
      ]
     },
     "execution_count": 47,
     "metadata": {},
     "output_type": "execute_result"
    }
   ],
   "source": [
    "#it is easier to manage this as a dataframe\n",
    "df = pd.DataFrame(results_h, columns=['7days', '14days', '28days'])\n",
    "df.head()"
   ]
  },
  {
   "cell_type": "code",
   "execution_count": 48,
   "metadata": {},
   "outputs": [
    {
     "data": {
      "text/html": [
       "<div>\n",
       "<style scoped>\n",
       "    .dataframe tbody tr th:only-of-type {\n",
       "        vertical-align: middle;\n",
       "    }\n",
       "\n",
       "    .dataframe tbody tr th {\n",
       "        vertical-align: top;\n",
       "    }\n",
       "\n",
       "    .dataframe thead th {\n",
       "        text-align: right;\n",
       "    }\n",
       "</style>\n",
       "<table border=\"1\" class=\"dataframe\">\n",
       "  <thead>\n",
       "    <tr style=\"text-align: right;\">\n",
       "      <th></th>\n",
       "      <th>7days</th>\n",
       "      <th>14days</th>\n",
       "      <th>28days</th>\n",
       "    </tr>\n",
       "  </thead>\n",
       "  <tbody>\n",
       "    <tr>\n",
       "      <th>count</th>\n",
       "      <td>117.000000</td>\n",
       "      <td>117.000000</td>\n",
       "      <td>117.000000</td>\n",
       "    </tr>\n",
       "    <tr>\n",
       "      <th>mean</th>\n",
       "      <td>14.412050</td>\n",
       "      <td>14.336333</td>\n",
       "      <td>13.991379</td>\n",
       "    </tr>\n",
       "    <tr>\n",
       "      <th>std</th>\n",
       "      <td>3.011346</td>\n",
       "      <td>2.022619</td>\n",
       "      <td>1.235327</td>\n",
       "    </tr>\n",
       "    <tr>\n",
       "      <th>min</th>\n",
       "      <td>7.365878</td>\n",
       "      <td>8.660373</td>\n",
       "      <td>11.118196</td>\n",
       "    </tr>\n",
       "    <tr>\n",
       "      <th>25%</th>\n",
       "      <td>12.102072</td>\n",
       "      <td>12.978478</td>\n",
       "      <td>13.128872</td>\n",
       "    </tr>\n",
       "    <tr>\n",
       "      <th>50%</th>\n",
       "      <td>13.976272</td>\n",
       "      <td>14.250369</td>\n",
       "      <td>13.950694</td>\n",
       "    </tr>\n",
       "    <tr>\n",
       "      <th>75%</th>\n",
       "      <td>16.890996</td>\n",
       "      <td>15.470797</td>\n",
       "      <td>14.912828</td>\n",
       "    </tr>\n",
       "    <tr>\n",
       "      <th>max</th>\n",
       "      <td>21.947033</td>\n",
       "      <td>21.688439</td>\n",
       "      <td>18.057172</td>\n",
       "    </tr>\n",
       "  </tbody>\n",
       "</table>\n",
       "</div>"
      ],
      "text/plain": [
       "            7days      14days      28days\n",
       "count  117.000000  117.000000  117.000000\n",
       "mean    14.412050   14.336333   13.991379\n",
       "std      3.011346    2.022619    1.235327\n",
       "min      7.365878    8.660373   11.118196\n",
       "25%     12.102072   12.978478   13.128872\n",
       "50%     13.976272   14.250369   13.950694\n",
       "75%     16.890996   15.470797   14.912828\n",
       "max     21.947033   21.688439   18.057172"
      ]
     },
     "execution_count": 48,
     "metadata": {},
     "output_type": "execute_result"
    }
   ],
   "source": [
    "#ten call the describe function to get results\n",
    "#also you can save the raw results (recommended!)\n",
    "df.describe()"
   ]
  },
  {
   "cell_type": "code",
   "execution_count": 50,
   "metadata": {},
   "outputs": [],
   "source": [
    "cv = rolling_forecast_origin(train, min_train_size=200, horizons=[7,14,28], \n",
    "                             step=1)\n",
    "results_h = cross_validation_score(model, train, cv, mean_absolute_error,\n",
    "                                   n_jobs=-1)"
   ]
  },
  {
   "cell_type": "code",
   "execution_count": 52,
   "metadata": {},
   "outputs": [
    {
     "data": {
      "text/html": [
       "<div>\n",
       "<style scoped>\n",
       "    .dataframe tbody tr th:only-of-type {\n",
       "        vertical-align: middle;\n",
       "    }\n",
       "\n",
       "    .dataframe tbody tr th {\n",
       "        vertical-align: top;\n",
       "    }\n",
       "\n",
       "    .dataframe thead th {\n",
       "        text-align: right;\n",
       "    }\n",
       "</style>\n",
       "<table border=\"1\" class=\"dataframe\">\n",
       "  <thead>\n",
       "    <tr style=\"text-align: right;\">\n",
       "      <th></th>\n",
       "      <th>7days</th>\n",
       "      <th>14days</th>\n",
       "      <th>28days</th>\n",
       "    </tr>\n",
       "  </thead>\n",
       "  <tbody>\n",
       "    <tr>\n",
       "      <th>count</th>\n",
       "      <td>117.000000</td>\n",
       "      <td>117.000000</td>\n",
       "      <td>117.000000</td>\n",
       "    </tr>\n",
       "    <tr>\n",
       "      <th>mean</th>\n",
       "      <td>14.211314</td>\n",
       "      <td>14.080860</td>\n",
       "      <td>13.793406</td>\n",
       "    </tr>\n",
       "    <tr>\n",
       "      <th>std</th>\n",
       "      <td>2.907189</td>\n",
       "      <td>2.006614</td>\n",
       "      <td>1.161488</td>\n",
       "    </tr>\n",
       "    <tr>\n",
       "      <th>min</th>\n",
       "      <td>9.266781</td>\n",
       "      <td>10.261205</td>\n",
       "      <td>10.957218</td>\n",
       "    </tr>\n",
       "    <tr>\n",
       "      <th>25%</th>\n",
       "      <td>11.840689</td>\n",
       "      <td>12.542844</td>\n",
       "      <td>13.030809</td>\n",
       "    </tr>\n",
       "    <tr>\n",
       "      <th>50%</th>\n",
       "      <td>13.996789</td>\n",
       "      <td>13.991023</td>\n",
       "      <td>13.809597</td>\n",
       "    </tr>\n",
       "    <tr>\n",
       "      <th>75%</th>\n",
       "      <td>15.895423</td>\n",
       "      <td>15.043143</td>\n",
       "      <td>14.437080</td>\n",
       "    </tr>\n",
       "    <tr>\n",
       "      <th>max</th>\n",
       "      <td>21.930518</td>\n",
       "      <td>21.688439</td>\n",
       "      <td>18.057172</td>\n",
       "    </tr>\n",
       "  </tbody>\n",
       "</table>\n",
       "</div>"
      ],
      "text/plain": [
       "            7days      14days      28days\n",
       "count  117.000000  117.000000  117.000000\n",
       "mean    14.211314   14.080860   13.793406\n",
       "std      2.907189    2.006614    1.161488\n",
       "min      9.266781   10.261205   10.957218\n",
       "25%     11.840689   12.542844   13.030809\n",
       "50%     13.996789   13.991023   13.809597\n",
       "75%     15.895423   15.043143   14.437080\n",
       "max     21.930518   21.688439   18.057172"
      ]
     },
     "execution_count": 52,
     "metadata": {},
     "output_type": "execute_result"
    }
   ],
   "source": [
    "df = pd.DataFrame(results_h, columns=['7days', '14days', '28days'])\n",
    "df.describe()"
   ]
  },
  {
   "cell_type": "code",
   "execution_count": 53,
   "metadata": {},
   "outputs": [
    {
     "data": {
      "text/plain": [
       "<matplotlib.axes._subplots.AxesSubplot at 0x7f2299782d68>"
      ]
     },
     "execution_count": 53,
     "metadata": {},
     "output_type": "execute_result"
    },
    {
     "data": {
      "image/png": "[encoded data removed]",
      "text/plain": [
       "<Figure size 864x288 with 1 Axes>"
      ]
     },
     "metadata": {
      "needs_background": "light"
     },
     "output_type": "display_data"
    }
   ],
   "source": [
    "df.plot(figsize=(12,4))"
   ]
  }
 ],
 "metadata": {
  "kernelspec": {
   "display_name": "Python 3",
   "language": "python",
   "name": "python3"
  },
  "language_info": {
   "codemirror_mode": {
    "name": "ipython",
    "version": 3
   },
   "file_extension": ".py",
   "mimetype": "text/x-python",
   "name": "python",
   "nbconvert_exporter": "python",
   "pygments_lexer": "ipython3",
   "version": "3.7.3"
  }
 },
 "nbformat": 4,
 "nbformat_minor": 4
}
